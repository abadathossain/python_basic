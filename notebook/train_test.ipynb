{
 "cells": [
  {
   "cell_type": "code",
   "execution_count": 1,
   "id": "c273df21-b102-48df-8a3d-a83435e0c618",
   "metadata": {},
   "outputs": [],
   "source": [
    "import pandas as pd\n",
    "from sklearn.datasets import make_classification\n",
    "from sklearn.model_selection import train_test_split"
   ]
  },
  {
   "cell_type": "code",
   "execution_count": 10,
   "id": "98ef7455-7cb4-4355-81e7-3a467a608676",
   "metadata": {},
   "outputs": [
    {
     "data": {
      "text/plain": [
       "array([[-1.00583777, -0.37653943, -0.62017967, ...,  1.67804613,\n",
       "         1.0801799 ,  0.35358714],\n",
       "       [ 0.41117999,  0.76240872, -0.78421   , ..., -0.85044853,\n",
       "        -0.46130068,  1.06223729],\n",
       "       [-1.52540752,  2.22793382,  0.5477266 , ...,  2.44004248,\n",
       "         1.69891857, -0.70530243],\n",
       "       ...,\n",
       "       [-1.614926  ,  0.74310266,  1.13675653, ...,  2.8471565 ,\n",
       "        -0.91145218, -1.22062837],\n",
       "       [-0.14262151, -1.43323743, -2.54920034, ...,  0.39777869,\n",
       "        -0.71639987,  0.6122551 ],\n",
       "       [-0.1251796 ,  0.73011191, -1.87888552, ...,  0.74154153,\n",
       "         0.30886522, -1.36966537]], shape=(1000, 10))"
      ]
     },
     "execution_count": 10,
     "metadata": {},
     "output_type": "execute_result"
    }
   ],
   "source": [
    "x,y=make_classification(n_samples=1000, n_features=10, n_classes=2,random_state=10)\n",
    "x"
   ]
  },
  {
   "cell_type": "code",
   "execution_count": 11,
   "id": "4b4e12c3-0cd9-4002-be84-2aff6ff74b6d",
   "metadata": {},
   "outputs": [
    {
     "data": {
      "text/html": [
       "<div>\n",
       "<style scoped>\n",
       "    .dataframe tbody tr th:only-of-type {\n",
       "        vertical-align: middle;\n",
       "    }\n",
       "\n",
       "    .dataframe tbody tr th {\n",
       "        vertical-align: top;\n",
       "    }\n",
       "\n",
       "    .dataframe thead th {\n",
       "        text-align: right;\n",
       "    }\n",
       "</style>\n",
       "<table border=\"1\" class=\"dataframe\">\n",
       "  <thead>\n",
       "    <tr style=\"text-align: right;\">\n",
       "      <th></th>\n",
       "      <th>0</th>\n",
       "      <th>1</th>\n",
       "      <th>2</th>\n",
       "      <th>3</th>\n",
       "      <th>4</th>\n",
       "      <th>5</th>\n",
       "      <th>6</th>\n",
       "      <th>7</th>\n",
       "      <th>8</th>\n",
       "      <th>9</th>\n",
       "    </tr>\n",
       "  </thead>\n",
       "  <tbody>\n",
       "    <tr>\n",
       "      <th>0</th>\n",
       "      <td>-1.005838</td>\n",
       "      <td>-0.376539</td>\n",
       "      <td>-0.620180</td>\n",
       "      <td>-0.157567</td>\n",
       "      <td>-1.120805</td>\n",
       "      <td>-0.589091</td>\n",
       "      <td>-1.574578</td>\n",
       "      <td>1.678046</td>\n",
       "      <td>1.080180</td>\n",
       "      <td>0.353587</td>\n",
       "    </tr>\n",
       "    <tr>\n",
       "      <th>1</th>\n",
       "      <td>0.411180</td>\n",
       "      <td>0.762409</td>\n",
       "      <td>-0.784210</td>\n",
       "      <td>-0.096479</td>\n",
       "      <td>-0.408758</td>\n",
       "      <td>-0.665780</td>\n",
       "      <td>0.210942</td>\n",
       "      <td>-0.850449</td>\n",
       "      <td>-0.461301</td>\n",
       "      <td>1.062237</td>\n",
       "    </tr>\n",
       "    <tr>\n",
       "      <th>2</th>\n",
       "      <td>-1.525408</td>\n",
       "      <td>2.227934</td>\n",
       "      <td>0.547727</td>\n",
       "      <td>-0.341481</td>\n",
       "      <td>-0.817577</td>\n",
       "      <td>0.423091</td>\n",
       "      <td>-2.663678</td>\n",
       "      <td>2.440042</td>\n",
       "      <td>1.698919</td>\n",
       "      <td>-0.705302</td>\n",
       "    </tr>\n",
       "    <tr>\n",
       "      <th>3</th>\n",
       "      <td>-1.374563</td>\n",
       "      <td>0.061129</td>\n",
       "      <td>-0.995868</td>\n",
       "      <td>-0.214351</td>\n",
       "      <td>-0.558957</td>\n",
       "      <td>0.064870</td>\n",
       "      <td>-2.149167</td>\n",
       "      <td>2.294192</td>\n",
       "      <td>-1.383965</td>\n",
       "      <td>0.806924</td>\n",
       "    </tr>\n",
       "    <tr>\n",
       "      <th>4</th>\n",
       "      <td>-0.549798</td>\n",
       "      <td>0.046349</td>\n",
       "      <td>0.834756</td>\n",
       "      <td>-0.104845</td>\n",
       "      <td>-0.455528</td>\n",
       "      <td>-0.410938</td>\n",
       "      <td>-0.911018</td>\n",
       "      <td>0.898098</td>\n",
       "      <td>1.068259</td>\n",
       "      <td>0.384683</td>\n",
       "    </tr>\n",
       "    <tr>\n",
       "      <th>...</th>\n",
       "      <td>...</td>\n",
       "      <td>...</td>\n",
       "      <td>...</td>\n",
       "      <td>...</td>\n",
       "      <td>...</td>\n",
       "      <td>...</td>\n",
       "      <td>...</td>\n",
       "      <td>...</td>\n",
       "      <td>...</td>\n",
       "      <td>...</td>\n",
       "    </tr>\n",
       "    <tr>\n",
       "      <th>995</th>\n",
       "      <td>0.029647</td>\n",
       "      <td>-0.056868</td>\n",
       "      <td>-0.336122</td>\n",
       "      <td>-0.700527</td>\n",
       "      <td>0.129147</td>\n",
       "      <td>-2.184106</td>\n",
       "      <td>-1.850227</td>\n",
       "      <td>-0.770335</td>\n",
       "      <td>-0.888264</td>\n",
       "      <td>0.285027</td>\n",
       "    </tr>\n",
       "    <tr>\n",
       "      <th>996</th>\n",
       "      <td>0.157019</td>\n",
       "      <td>0.566137</td>\n",
       "      <td>0.627820</td>\n",
       "      <td>-0.049620</td>\n",
       "      <td>1.765735</td>\n",
       "      <td>0.416363</td>\n",
       "      <td>0.046187</td>\n",
       "      <td>-0.337826</td>\n",
       "      <td>-0.161875</td>\n",
       "      <td>-0.339948</td>\n",
       "    </tr>\n",
       "    <tr>\n",
       "      <th>997</th>\n",
       "      <td>-1.614926</td>\n",
       "      <td>0.743103</td>\n",
       "      <td>1.136757</td>\n",
       "      <td>-0.103349</td>\n",
       "      <td>-0.769979</td>\n",
       "      <td>-1.922992</td>\n",
       "      <td>-2.125616</td>\n",
       "      <td>2.847156</td>\n",
       "      <td>-0.911452</td>\n",
       "      <td>-1.220628</td>\n",
       "    </tr>\n",
       "    <tr>\n",
       "      <th>998</th>\n",
       "      <td>-0.142622</td>\n",
       "      <td>-1.433237</td>\n",
       "      <td>-2.549200</td>\n",
       "      <td>0.134018</td>\n",
       "      <td>1.092140</td>\n",
       "      <td>0.525805</td>\n",
       "      <td>0.197284</td>\n",
       "      <td>0.397779</td>\n",
       "      <td>-0.716400</td>\n",
       "      <td>0.612255</td>\n",
       "    </tr>\n",
       "    <tr>\n",
       "      <th>999</th>\n",
       "      <td>-0.125180</td>\n",
       "      <td>0.730112</td>\n",
       "      <td>-1.878886</td>\n",
       "      <td>0.501490</td>\n",
       "      <td>-0.411241</td>\n",
       "      <td>-0.383437</td>\n",
       "      <td>1.205595</td>\n",
       "      <td>0.741542</td>\n",
       "      <td>0.308865</td>\n",
       "      <td>-1.369665</td>\n",
       "    </tr>\n",
       "  </tbody>\n",
       "</table>\n",
       "<p>1000 rows × 10 columns</p>\n",
       "</div>"
      ],
      "text/plain": [
       "            0         1         2         3         4         5         6         7         8         9\n",
       "0   -1.005838 -0.376539 -0.620180 -0.157567 -1.120805 -0.589091 -1.574578  1.678046  1.080180  0.353587\n",
       "1    0.411180  0.762409 -0.784210 -0.096479 -0.408758 -0.665780  0.210942 -0.850449 -0.461301  1.062237\n",
       "2   -1.525408  2.227934  0.547727 -0.341481 -0.817577  0.423091 -2.663678  2.440042  1.698919 -0.705302\n",
       "3   -1.374563  0.061129 -0.995868 -0.214351 -0.558957  0.064870 -2.149167  2.294192 -1.383965  0.806924\n",
       "4   -0.549798  0.046349  0.834756 -0.104845 -0.455528 -0.410938 -0.911018  0.898098  1.068259  0.384683\n",
       "..        ...       ...       ...       ...       ...       ...       ...       ...       ...       ...\n",
       "995  0.029647 -0.056868 -0.336122 -0.700527  0.129147 -2.184106 -1.850227 -0.770335 -0.888264  0.285027\n",
       "996  0.157019  0.566137  0.627820 -0.049620  1.765735  0.416363  0.046187 -0.337826 -0.161875 -0.339948\n",
       "997 -1.614926  0.743103  1.136757 -0.103349 -0.769979 -1.922992 -2.125616  2.847156 -0.911452 -1.220628\n",
       "998 -0.142622 -1.433237 -2.549200  0.134018  1.092140  0.525805  0.197284  0.397779 -0.716400  0.612255\n",
       "999 -0.125180  0.730112 -1.878886  0.501490 -0.411241 -0.383437  1.205595  0.741542  0.308865 -1.369665\n",
       "\n",
       "[1000 rows x 10 columns]"
      ]
     },
     "execution_count": 11,
     "metadata": {},
     "output_type": "execute_result"
    }
   ],
   "source": [
    "pd.DataFrame(x)"
   ]
  },
  {
   "cell_type": "markdown",
   "id": "1b635801-fbfc-4fc4-9347-27b72be5d20c",
   "metadata": {},
   "source": [
    "Train and test"
   ]
  },
  {
   "cell_type": "code",
   "execution_count": 16,
   "id": "6ff9e9fb-6111-4505-bea1-091d512e7bd6",
   "metadata": {},
   "outputs": [
    {
     "data": {
      "text/plain": [
       "array([[-0.73684127,  1.38561587, -0.83827776, ...,  1.25220488,\n",
       "         0.80849687,  0.17560071],\n",
       "       [ 0.02498007, -0.50856271,  0.24159242, ...,  0.19665444,\n",
       "        -2.71033019,  0.73827185],\n",
       "       [ 0.60817991,  0.69113022, -0.71551942, ..., -0.95405864,\n",
       "         0.5634596 , -1.03872523],\n",
       "       ...,\n",
       "       [-0.20387579,  0.25955713,  0.14299118, ...,  0.33678524,\n",
       "        -0.33085497, -0.35668791],\n",
       "       [-0.24900903,  0.13994288, -0.97346852, ...,  0.68857032,\n",
       "         0.66667096,  0.33616473],\n",
       "       [-0.11490133, -0.39779889, -0.71946593, ...,  0.07951074,\n",
       "        -1.64219634,  2.2453931 ]], shape=(700, 10))"
      ]
     },
     "execution_count": 16,
     "metadata": {},
     "output_type": "execute_result"
    }
   ],
   "source": [
    "x_train,x_test,y_train,y_test=train_test_split(x,y,test_size=0.30,random_state=1)\n",
    "x_train"
   ]
  },
  {
   "cell_type": "code",
   "execution_count": 18,
   "id": "f30535cf-43f3-4856-b977-aca52832ac5a",
   "metadata": {},
   "outputs": [
    {
     "data": {
      "text/plain": [
       "(700, 10)"
      ]
     },
     "execution_count": 18,
     "metadata": {},
     "output_type": "execute_result"
    }
   ],
   "source": [
    "x_train.shape"
   ]
  },
  {
   "cell_type": "code",
   "execution_count": 19,
   "id": "89dfed3a-aaf1-4630-b3ae-7ed36e58fc19",
   "metadata": {},
   "outputs": [
    {
     "data": {
      "text/plain": [
       "(300, 10)"
      ]
     },
     "execution_count": 19,
     "metadata": {},
     "output_type": "execute_result"
    }
   ],
   "source": [
    "x_test.shape"
   ]
  },
  {
   "cell_type": "code",
   "execution_count": null,
   "id": "784430e6-5fc0-4b72-9b2a-247e1d6ca2ce",
   "metadata": {},
   "outputs": [],
   "source": []
  }
 ],
 "metadata": {
  "kernelspec": {
   "display_name": "Python 3 (ipykernel)",
   "language": "python",
   "name": "python3"
  },
  "language_info": {
   "codemirror_mode": {
    "name": "ipython",
    "version": 3
   },
   "file_extension": ".py",
   "mimetype": "text/x-python",
   "name": "python",
   "nbconvert_exporter": "python",
   "pygments_lexer": "ipython3",
   "version": "3.13.7"
  }
 },
 "nbformat": 4,
 "nbformat_minor": 5
}
