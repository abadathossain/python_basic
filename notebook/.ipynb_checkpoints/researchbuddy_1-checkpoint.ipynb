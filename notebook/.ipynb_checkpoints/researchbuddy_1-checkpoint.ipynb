{
 "cells": [
  {
   "cell_type": "markdown",
   "id": "82ccb517-c8f4-41c9-ba04-15e8f3e4e2d3",
   "metadata": {},
   "source": [
    "# Creation of synthetic data"
   ]
  },
  {
   "cell_type": "code",
   "execution_count": 23,
   "id": "9ea7e039-c232-4ea2-9204-b09d4bc411a0",
   "metadata": {},
   "outputs": [],
   "source": [
    "import random"
   ]
  },
  {
   "cell_type": "code",
   "execution_count": 24,
   "id": "28404977-8e29-4b79-8c22-d0868efdfa02",
   "metadata": {},
   "outputs": [],
   "source": [
    "s_hour=[]\n",
    "for i in range(0,100):\n",
    "    s_hour.append(random.randint(30,75))"
   ]
  },
  {
   "cell_type": "code",
   "execution_count": 25,
   "id": "ce6e91e8-3aec-4c61-b101-4c7f97647f0f",
   "metadata": {},
   "outputs": [],
   "source": [
    "# s_hour"
   ]
  },
  {
   "cell_type": "code",
   "execution_count": 26,
   "id": "64c37d5a-9e02-40e8-83b1-319a8093c6b8",
   "metadata": {},
   "outputs": [],
   "source": [
    "import pandas as pd"
   ]
  },
  {
   "cell_type": "code",
   "execution_count": 27,
   "id": "39053dcd-9ce4-440a-9449-73082f90670f",
   "metadata": {},
   "outputs": [],
   "source": [
    "df=pd.DataFrame(s_hour, columns=[\"s_hour\"])"
   ]
  },
  {
   "cell_type": "code",
   "execution_count": 28,
   "id": "a80bb818-dacb-4ea0-94e9-910da0865cc8",
   "metadata": {},
   "outputs": [
    {
     "data": {
      "text/html": [
       "<div>\n",
       "<style scoped>\n",
       "    .dataframe tbody tr th:only-of-type {\n",
       "        vertical-align: middle;\n",
       "    }\n",
       "\n",
       "    .dataframe tbody tr th {\n",
       "        vertical-align: top;\n",
       "    }\n",
       "\n",
       "    .dataframe thead th {\n",
       "        text-align: right;\n",
       "    }\n",
       "</style>\n",
       "<table border=\"1\" class=\"dataframe\">\n",
       "  <thead>\n",
       "    <tr style=\"text-align: right;\">\n",
       "      <th></th>\n",
       "      <th>s_hour</th>\n",
       "    </tr>\n",
       "  </thead>\n",
       "  <tbody>\n",
       "    <tr>\n",
       "      <th>0</th>\n",
       "      <td>35</td>\n",
       "    </tr>\n",
       "    <tr>\n",
       "      <th>1</th>\n",
       "      <td>40</td>\n",
       "    </tr>\n",
       "    <tr>\n",
       "      <th>2</th>\n",
       "      <td>60</td>\n",
       "    </tr>\n",
       "    <tr>\n",
       "      <th>3</th>\n",
       "      <td>48</td>\n",
       "    </tr>\n",
       "    <tr>\n",
       "      <th>4</th>\n",
       "      <td>45</td>\n",
       "    </tr>\n",
       "  </tbody>\n",
       "</table>\n",
       "</div>"
      ],
      "text/plain": [
       "   s_hour\n",
       "0      35\n",
       "1      40\n",
       "2      60\n",
       "3      48\n",
       "4      45"
      ]
     },
     "execution_count": 28,
     "metadata": {},
     "output_type": "execute_result"
    }
   ],
   "source": [
    "df.head()"
   ]
  },
  {
   "cell_type": "code",
   "execution_count": 29,
   "id": "66841a4c-4859-42ac-a17d-46f01a647ffa",
   "metadata": {},
   "outputs": [],
   "source": [
    "df.to_csv(\"first_data.csv\", index=False)"
   ]
  },
  {
   "cell_type": "code",
   "execution_count": 30,
   "id": "d6ebe0f9-efb0-4760-8d36-46e678769faf",
   "metadata": {},
   "outputs": [],
   "source": [
    "label=[]\n",
    "for i in range(0,100):\n",
    "    if df['s_hour'][i]<45:\n",
    "        label.append('Fail')\n",
    "    else:\n",
    "        label.append(\"Pass\")"
   ]
  },
  {
   "cell_type": "code",
   "execution_count": 31,
   "id": "6d71b5bf-a1e0-4f56-960b-73a67ffd3203",
   "metadata": {},
   "outputs": [],
   "source": [
    "df['label']=label"
   ]
  },
  {
   "cell_type": "code",
   "execution_count": 32,
   "id": "bd1bbcc1-3978-4980-8d40-459ffa389f8c",
   "metadata": {},
   "outputs": [
    {
     "data": {
      "text/html": [
       "<div>\n",
       "<style scoped>\n",
       "    .dataframe tbody tr th:only-of-type {\n",
       "        vertical-align: middle;\n",
       "    }\n",
       "\n",
       "    .dataframe tbody tr th {\n",
       "        vertical-align: top;\n",
       "    }\n",
       "\n",
       "    .dataframe thead th {\n",
       "        text-align: right;\n",
       "    }\n",
       "</style>\n",
       "<table border=\"1\" class=\"dataframe\">\n",
       "  <thead>\n",
       "    <tr style=\"text-align: right;\">\n",
       "      <th></th>\n",
       "      <th>s_hour</th>\n",
       "      <th>label</th>\n",
       "    </tr>\n",
       "  </thead>\n",
       "  <tbody>\n",
       "    <tr>\n",
       "      <th>0</th>\n",
       "      <td>35</td>\n",
       "      <td>Fail</td>\n",
       "    </tr>\n",
       "    <tr>\n",
       "      <th>1</th>\n",
       "      <td>40</td>\n",
       "      <td>Fail</td>\n",
       "    </tr>\n",
       "    <tr>\n",
       "      <th>2</th>\n",
       "      <td>60</td>\n",
       "      <td>Pass</td>\n",
       "    </tr>\n",
       "    <tr>\n",
       "      <th>3</th>\n",
       "      <td>48</td>\n",
       "      <td>Pass</td>\n",
       "    </tr>\n",
       "    <tr>\n",
       "      <th>4</th>\n",
       "      <td>45</td>\n",
       "      <td>Pass</td>\n",
       "    </tr>\n",
       "  </tbody>\n",
       "</table>\n",
       "</div>"
      ],
      "text/plain": [
       "   s_hour label\n",
       "0      35  Fail\n",
       "1      40  Fail\n",
       "2      60  Pass\n",
       "3      48  Pass\n",
       "4      45  Pass"
      ]
     },
     "execution_count": 32,
     "metadata": {},
     "output_type": "execute_result"
    }
   ],
   "source": [
    "df.head()"
   ]
  },
  {
   "cell_type": "code",
   "execution_count": 33,
   "id": "9210065d-6105-4683-acef-b5de36a9307f",
   "metadata": {},
   "outputs": [],
   "source": [
    "label2=[]\n",
    "for i in range(0,100):\n",
    "    if  df['s_hour'][i]>50:\n",
    "        label2.append(\"PASS\")\n",
    "    else:\n",
    "        label2.append(\"FAIL\")"
   ]
  },
  {
   "cell_type": "code",
   "execution_count": 34,
   "id": "355ae789-0133-4503-8743-83f9334aa188",
   "metadata": {},
   "outputs": [],
   "source": [
    "df['labellll']=label2"
   ]
  },
  {
   "cell_type": "code",
   "execution_count": 35,
   "id": "59128945-3771-4598-b42b-0c99e1b95d83",
   "metadata": {},
   "outputs": [
    {
     "data": {
      "text/html": [
       "<div>\n",
       "<style scoped>\n",
       "    .dataframe tbody tr th:only-of-type {\n",
       "        vertical-align: middle;\n",
       "    }\n",
       "\n",
       "    .dataframe tbody tr th {\n",
       "        vertical-align: top;\n",
       "    }\n",
       "\n",
       "    .dataframe thead th {\n",
       "        text-align: right;\n",
       "    }\n",
       "</style>\n",
       "<table border=\"1\" class=\"dataframe\">\n",
       "  <thead>\n",
       "    <tr style=\"text-align: right;\">\n",
       "      <th></th>\n",
       "      <th>s_hour</th>\n",
       "      <th>label</th>\n",
       "      <th>labellll</th>\n",
       "    </tr>\n",
       "  </thead>\n",
       "  <tbody>\n",
       "    <tr>\n",
       "      <th>0</th>\n",
       "      <td>35</td>\n",
       "      <td>Fail</td>\n",
       "      <td>FAIL</td>\n",
       "    </tr>\n",
       "    <tr>\n",
       "      <th>1</th>\n",
       "      <td>40</td>\n",
       "      <td>Fail</td>\n",
       "      <td>FAIL</td>\n",
       "    </tr>\n",
       "    <tr>\n",
       "      <th>2</th>\n",
       "      <td>60</td>\n",
       "      <td>Pass</td>\n",
       "      <td>PASS</td>\n",
       "    </tr>\n",
       "    <tr>\n",
       "      <th>3</th>\n",
       "      <td>48</td>\n",
       "      <td>Pass</td>\n",
       "      <td>FAIL</td>\n",
       "    </tr>\n",
       "    <tr>\n",
       "      <th>4</th>\n",
       "      <td>45</td>\n",
       "      <td>Pass</td>\n",
       "      <td>FAIL</td>\n",
       "    </tr>\n",
       "  </tbody>\n",
       "</table>\n",
       "</div>"
      ],
      "text/plain": [
       "   s_hour label labellll\n",
       "0      35  Fail     FAIL\n",
       "1      40  Fail     FAIL\n",
       "2      60  Pass     PASS\n",
       "3      48  Pass     FAIL\n",
       "4      45  Pass     FAIL"
      ]
     },
     "execution_count": 35,
     "metadata": {},
     "output_type": "execute_result"
    }
   ],
   "source": [
    "df.head()"
   ]
  },
  {
   "cell_type": "code",
   "execution_count": 36,
   "id": "5d36de3f-918b-4d0f-9feb-b93282f23351",
   "metadata": {},
   "outputs": [],
   "source": [
    "# dept=['CSE','EEE','JRN','BBA']\n",
    "# p=random.choice(dept)\n",
    "# p\n"
   ]
  },
  {
   "cell_type": "code",
   "execution_count": 42,
   "id": "17553890-9fcc-4931-aa2f-190b115a4713",
   "metadata": {},
   "outputs": [],
   "source": [
    "dept=[]\n",
    "for i in range(0,100):\n",
    "    dept.append(random.choice(['CSE','EEE','JRN','BBA']))"
   ]
  },
  {
   "cell_type": "code",
   "execution_count": 43,
   "id": "01ee1179-1ab9-4ec3-abb3-05df89319918",
   "metadata": {},
   "outputs": [],
   "source": [
    "df['depttt']=dept"
   ]
  },
  {
   "cell_type": "code",
   "execution_count": 44,
   "id": "b0341396-e541-4e94-938e-8ecf44bf4687",
   "metadata": {},
   "outputs": [
    {
     "data": {
      "text/html": [
       "<div>\n",
       "<style scoped>\n",
       "    .dataframe tbody tr th:only-of-type {\n",
       "        vertical-align: middle;\n",
       "    }\n",
       "\n",
       "    .dataframe tbody tr th {\n",
       "        vertical-align: top;\n",
       "    }\n",
       "\n",
       "    .dataframe thead th {\n",
       "        text-align: right;\n",
       "    }\n",
       "</style>\n",
       "<table border=\"1\" class=\"dataframe\">\n",
       "  <thead>\n",
       "    <tr style=\"text-align: right;\">\n",
       "      <th></th>\n",
       "      <th>s_hour</th>\n",
       "      <th>label</th>\n",
       "      <th>labellll</th>\n",
       "      <th>depttt</th>\n",
       "    </tr>\n",
       "  </thead>\n",
       "  <tbody>\n",
       "    <tr>\n",
       "      <th>0</th>\n",
       "      <td>35</td>\n",
       "      <td>Fail</td>\n",
       "      <td>FAIL</td>\n",
       "      <td>BBA</td>\n",
       "    </tr>\n",
       "    <tr>\n",
       "      <th>1</th>\n",
       "      <td>40</td>\n",
       "      <td>Fail</td>\n",
       "      <td>FAIL</td>\n",
       "      <td>BBA</td>\n",
       "    </tr>\n",
       "    <tr>\n",
       "      <th>2</th>\n",
       "      <td>60</td>\n",
       "      <td>Pass</td>\n",
       "      <td>PASS</td>\n",
       "      <td>BBA</td>\n",
       "    </tr>\n",
       "    <tr>\n",
       "      <th>3</th>\n",
       "      <td>48</td>\n",
       "      <td>Pass</td>\n",
       "      <td>FAIL</td>\n",
       "      <td>CSE</td>\n",
       "    </tr>\n",
       "    <tr>\n",
       "      <th>4</th>\n",
       "      <td>45</td>\n",
       "      <td>Pass</td>\n",
       "      <td>FAIL</td>\n",
       "      <td>EEE</td>\n",
       "    </tr>\n",
       "  </tbody>\n",
       "</table>\n",
       "</div>"
      ],
      "text/plain": [
       "   s_hour label labellll depttt\n",
       "0      35  Fail     FAIL    BBA\n",
       "1      40  Fail     FAIL    BBA\n",
       "2      60  Pass     PASS    BBA\n",
       "3      48  Pass     FAIL    CSE\n",
       "4      45  Pass     FAIL    EEE"
      ]
     },
     "execution_count": 44,
     "metadata": {},
     "output_type": "execute_result"
    }
   ],
   "source": [
    "df.head()"
   ]
  },
  {
   "cell_type": "code",
   "execution_count": null,
   "id": "4eec70b2-7425-4a85-b27d-cc5892bf8ffe",
   "metadata": {},
   "outputs": [],
   "source": []
  }
 ],
 "metadata": {
  "kernelspec": {
   "display_name": "Python 3 (ipykernel)",
   "language": "python",
   "name": "python3"
  },
  "language_info": {
   "codemirror_mode": {
    "name": "ipython",
    "version": 3
   },
   "file_extension": ".py",
   "mimetype": "text/x-python",
   "name": "python",
   "nbconvert_exporter": "python",
   "pygments_lexer": "ipython3",
   "version": "3.13.9"
  }
 },
 "nbformat": 4,
 "nbformat_minor": 5
}
