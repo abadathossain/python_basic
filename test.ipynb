{
 "cells": [
  {
   "cell_type": "code",
   "execution_count": 58,
   "id": "2e25a4fd",
   "metadata": {},
   "outputs": [
    {
     "name": "stdout",
     "output_type": "stream",
     "text": [
      "4\n"
     ]
    }
   ],
   "source": [
    "print(2+2)"
   ]
  },
  {
   "cell_type": "code",
   "execution_count": 59,
   "id": "ca7ee0e1",
   "metadata": {},
   "outputs": [
    {
     "name": "stdout",
     "output_type": "stream",
     "text": [
      "    cars  passings\n",
      "0    BMW         3\n",
      "1  Volvo         7\n",
      "2   Ford         2\n"
     ]
    }
   ],
   "source": [
    "import pandas as pd\n",
    "\n",
    "mydataset = {\n",
    "  'cars': [\"BMW\", \"Volvo\", \"Ford\"],\n",
    "  'passings': [3, 7, 2]\n",
    "}\n",
    "\n",
    "myvar = pd.DataFrame(mydataset)\n",
    "\n",
    "print(myvar)"
   ]
  },
  {
   "cell_type": "code",
   "execution_count": 60,
   "id": "5256d0e3",
   "metadata": {},
   "outputs": [
    {
     "name": "stdout",
     "output_type": "stream",
     "text": [
      "   calories  duration\n",
      "0       420        50\n",
      "1       380        40\n",
      "2       390        45\n"
     ]
    }
   ],
   "source": [
    "import pandas as pd\n",
    "\n",
    "data = {\n",
    "  \"calories\": [420, 380, 390],\n",
    "  \"duration\": [50, 40, 45]\n",
    "}\n",
    "\n",
    "#load data into a DataFrame object:\n",
    "df = pd.DataFrame(data)\n",
    "\n",
    "print(df) "
   ]
  },
  {
   "cell_type": "code",
   "execution_count": 61,
   "id": "26ee9691",
   "metadata": {},
   "outputs": [
    {
     "name": "stdout",
     "output_type": "stream",
     "text": [
      "<class 'pandas.core.frame.DataFrame'>\n",
      "RangeIndex: 0 entries\n",
      "Empty DataFrame\n"
     ]
    }
   ],
   "source": [
    "df=pd.DataFrame()\n",
    "df.info()"
   ]
  },
  {
   "cell_type": "code",
   "execution_count": 62,
   "id": "c9c85271",
   "metadata": {},
   "outputs": [
    {
     "data": {
      "text/plain": [
       "['a', 'b', 'c']"
      ]
     },
     "execution_count": 62,
     "metadata": {},
     "output_type": "execute_result"
    }
   ],
   "source": [
    "city=[\"a\",\"b\",\"c\"]\n",
    "city2=[\"a\",\"b\",\"c\"]\n",
    "city\n",
    "city2"
   ]
  },
  {
   "cell_type": "code",
   "execution_count": 63,
   "id": "7e683b92",
   "metadata": {},
   "outputs": [
    {
     "data": {
      "text/html": [
       "<div>\n",
       "<style scoped>\n",
       "    .dataframe tbody tr th:only-of-type {\n",
       "        vertical-align: middle;\n",
       "    }\n",
       "\n",
       "    .dataframe tbody tr th {\n",
       "        vertical-align: top;\n",
       "    }\n",
       "\n",
       "    .dataframe thead th {\n",
       "        text-align: right;\n",
       "    }\n",
       "</style>\n",
       "<table border=\"1\" class=\"dataframe\">\n",
       "  <thead>\n",
       "    <tr style=\"text-align: right;\">\n",
       "      <th></th>\n",
       "      <th>0</th>\n",
       "    </tr>\n",
       "  </thead>\n",
       "  <tbody>\n",
       "    <tr>\n",
       "      <th>0</th>\n",
       "      <td>a</td>\n",
       "    </tr>\n",
       "    <tr>\n",
       "      <th>1</th>\n",
       "      <td>b</td>\n",
       "    </tr>\n",
       "    <tr>\n",
       "      <th>2</th>\n",
       "      <td>c</td>\n",
       "    </tr>\n",
       "  </tbody>\n",
       "</table>\n",
       "</div>"
      ],
      "text/plain": [
       "   0\n",
       "0  a\n",
       "1  b\n",
       "2  c"
      ]
     },
     "execution_count": 63,
     "metadata": {},
     "output_type": "execute_result"
    }
   ],
   "source": [
    "df=pd.DataFrame(city)\n",
    "df"
   ]
  },
  {
   "cell_type": "code",
   "execution_count": 64,
   "id": "95ed2aeb",
   "metadata": {},
   "outputs": [
    {
     "data": {
      "text/plain": [
       "pandas.core.frame.DataFrame"
      ]
     },
     "execution_count": 64,
     "metadata": {},
     "output_type": "execute_result"
    }
   ],
   "source": [
    "type(df)\n"
   ]
  },
  {
   "cell_type": "code",
   "execution_count": 65,
   "id": "26afb0bd",
   "metadata": {},
   "outputs": [
    {
     "data": {
      "text/plain": [
       "3"
      ]
     },
     "execution_count": 65,
     "metadata": {},
     "output_type": "execute_result"
    }
   ],
   "source": [
    "row"
   ]
  },
  {
   "cell_type": "code",
   "execution_count": 66,
   "id": "18f4018e",
   "metadata": {},
   "outputs": [
    {
     "data": {
      "text/plain": [
       "1"
      ]
     },
     "execution_count": 66,
     "metadata": {},
     "output_type": "execute_result"
    }
   ],
   "source": [
    "col"
   ]
  },
  {
   "cell_type": "code",
   "execution_count": 67,
   "id": "732af090",
   "metadata": {},
   "outputs": [
    {
     "data": {
      "text/plain": [
       "(3, 1)"
      ]
     },
     "execution_count": 67,
     "metadata": {},
     "output_type": "execute_result"
    }
   ],
   "source": [
    "df.shape"
   ]
  },
  {
   "cell_type": "code",
   "execution_count": 72,
   "id": "f34a62bb",
   "metadata": {},
   "outputs": [
    {
     "data": {
      "text/html": [
       "<div>\n",
       "<style scoped>\n",
       "    .dataframe tbody tr th:only-of-type {\n",
       "        vertical-align: middle;\n",
       "    }\n",
       "\n",
       "    .dataframe tbody tr th {\n",
       "        vertical-align: top;\n",
       "    }\n",
       "\n",
       "    .dataframe thead th {\n",
       "        text-align: right;\n",
       "    }\n",
       "</style>\n",
       "<table border=\"1\" class=\"dataframe\">\n",
       "  <thead>\n",
       "    <tr style=\"text-align: right;\">\n",
       "      <th></th>\n",
       "      <th>Name1</th>\n",
       "      <th>Name2</th>\n",
       "    </tr>\n",
       "  </thead>\n",
       "  <tbody>\n",
       "    <tr>\n",
       "      <th>city1</th>\n",
       "      <td>Dhaka</td>\n",
       "      <td>Rajshahi</td>\n",
       "    </tr>\n",
       "    <tr>\n",
       "      <th>city2</th>\n",
       "      <td>Chittagong</td>\n",
       "      <td>Sylhet</td>\n",
       "    </tr>\n",
       "    <tr>\n",
       "      <th>city3</th>\n",
       "      <td>Khulna</td>\n",
       "      <td>Barishal</td>\n",
       "    </tr>\n",
       "  </tbody>\n",
       "</table>\n",
       "</div>"
      ],
      "text/plain": [
       "            Name1     Name2\n",
       "city1       Dhaka  Rajshahi\n",
       "city2  Chittagong    Sylhet\n",
       "city3      Khulna  Barishal"
      ]
     },
     "execution_count": 72,
     "metadata": {},
     "output_type": "execute_result"
    }
   ],
   "source": [
    "city = [\"Dhaka\", \"Chittagong\", \"Khulna\"]\n",
    "city2 = [\"Rajshahi\", \"Sylhet\", \"Barishal\"]\n",
    "df2=pd.DataFrame(zip(city,city2),columns=[\"Name1\",\"Name2\"],index=[\"city1\",\"city2\",\"city3\"])\n",
    "df2"
   ]
  },
  {
   "cell_type": "code",
   "execution_count": 73,
   "id": "63d4ec77",
   "metadata": {},
   "outputs": [
    {
     "data": {
      "text/plain": [
       "(3, 2)"
      ]
     },
     "execution_count": 73,
     "metadata": {},
     "output_type": "execute_result"
    }
   ],
   "source": [
    "df2.shape"
   ]
  },
  {
   "cell_type": "code",
   "execution_count": null,
   "id": "4e053227",
   "metadata": {},
   "outputs": [
    {
     "data": {
      "text/html": [
       "<div>\n",
       "<style scoped>\n",
       "    .dataframe tbody tr th:only-of-type {\n",
       "        vertical-align: middle;\n",
       "    }\n",
       "\n",
       "    .dataframe tbody tr th {\n",
       "        vertical-align: top;\n",
       "    }\n",
       "\n",
       "    .dataframe thead th {\n",
       "        text-align: right;\n",
       "    }\n",
       "</style>\n",
       "<table border=\"1\" class=\"dataframe\">\n",
       "  <thead>\n",
       "    <tr style=\"text-align: right;\">\n",
       "      <th></th>\n",
       "      <th>Counts</th>\n",
       "      <th>Counts Uncertainty</th>\n",
       "      <th>CPS</th>\n",
       "      <th>CPS Uncertainty</th>\n",
       "      <th>Weight</th>\n",
       "      <th>Ra-226</th>\n",
       "    </tr>\n",
       "  </thead>\n",
       "  <tbody>\n",
       "    <tr>\n",
       "      <th>count</th>\n",
       "      <td>1000.000000</td>\n",
       "      <td>1000.000000</td>\n",
       "      <td>1000.000000</td>\n",
       "      <td>1000.000000</td>\n",
       "      <td>1000.000000</td>\n",
       "      <td>1000.000000</td>\n",
       "    </tr>\n",
       "    <tr>\n",
       "      <th>mean</th>\n",
       "      <td>3699.889920</td>\n",
       "      <td>371.988103</td>\n",
       "      <td>0.184889</td>\n",
       "      <td>0.018561</td>\n",
       "      <td>534.997346</td>\n",
       "      <td>22.176793</td>\n",
       "    </tr>\n",
       "    <tr>\n",
       "      <th>std</th>\n",
       "      <td>2353.774596</td>\n",
       "      <td>122.179304</td>\n",
       "      <td>0.117650</td>\n",
       "      <td>0.006172</td>\n",
       "      <td>30.629437</td>\n",
       "      <td>13.265715</td>\n",
       "    </tr>\n",
       "    <tr>\n",
       "      <th>min</th>\n",
       "      <td>0.000000</td>\n",
       "      <td>0.000000</td>\n",
       "      <td>0.000000</td>\n",
       "      <td>0.000000</td>\n",
       "      <td>447.623479</td>\n",
       "      <td>0.000000</td>\n",
       "    </tr>\n",
       "    <tr>\n",
       "      <th>25%</th>\n",
       "      <td>1862.040678</td>\n",
       "      <td>288.748550</td>\n",
       "      <td>0.092774</td>\n",
       "      <td>0.014338</td>\n",
       "      <td>514.478018</td>\n",
       "      <td>12.107497</td>\n",
       "    </tr>\n",
       "    <tr>\n",
       "      <th>50%</th>\n",
       "      <td>3621.717784</td>\n",
       "      <td>373.794007</td>\n",
       "      <td>0.180911</td>\n",
       "      <td>0.018678</td>\n",
       "      <td>535.205873</td>\n",
       "      <td>22.086711</td>\n",
       "    </tr>\n",
       "    <tr>\n",
       "      <th>75%</th>\n",
       "      <td>5336.144307</td>\n",
       "      <td>454.020327</td>\n",
       "      <td>0.266686</td>\n",
       "      <td>0.022582</td>\n",
       "      <td>554.817013</td>\n",
       "      <td>31.358723</td>\n",
       "    </tr>\n",
       "    <tr>\n",
       "      <th>max</th>\n",
       "      <td>10749.442103</td>\n",
       "      <td>719.999831</td>\n",
       "      <td>0.537315</td>\n",
       "      <td>0.036014</td>\n",
       "      <td>630.670819</td>\n",
       "      <td>60.559143</td>\n",
       "    </tr>\n",
       "  </tbody>\n",
       "</table>\n",
       "</div>"
      ],
      "text/plain": [
       "             Counts  Counts Uncertainty          CPS  CPS Uncertainty  \\\n",
       "count   1000.000000         1000.000000  1000.000000      1000.000000   \n",
       "mean    3699.889920          371.988103     0.184889         0.018561   \n",
       "std     2353.774596          122.179304     0.117650         0.006172   \n",
       "min        0.000000            0.000000     0.000000         0.000000   \n",
       "25%     1862.040678          288.748550     0.092774         0.014338   \n",
       "50%     3621.717784          373.794007     0.180911         0.018678   \n",
       "75%     5336.144307          454.020327     0.266686         0.022582   \n",
       "max    10749.442103          719.999831     0.537315         0.036014   \n",
       "\n",
       "            Weight       Ra-226  \n",
       "count  1000.000000  1000.000000  \n",
       "mean    534.997346    22.176793  \n",
       "std      30.629437    13.265715  \n",
       "min     447.623479     0.000000  \n",
       "25%     514.478018    12.107497  \n",
       "50%     535.205873    22.086711  \n",
       "75%     554.817013    31.358723  \n",
       "max     630.670819    60.559143  "
      ]
     },
     "execution_count": 4,
     "metadata": {},
     "output_type": "execute_result"
    }
   ],
   "source": [
    "import pandas as pd\n",
    "\n",
    "df=pd.read_csv('data.csv')\n",
    "# df.describe()\n",
    "profile = ProfileReport(df, title=\"Pandas Profiling Report\", explorative=True)\n",
    "profile"
   ]
  },
  {
   "cell_type": "code",
   "execution_count": 80,
   "id": "a0149150",
   "metadata": {},
   "outputs": [
    {
     "data": {
      "text/plain": [
       "0      0.257291\n",
       "1      0.347165\n",
       "2      0.255963\n",
       "3      0.062861\n",
       "4      0.166097\n",
       "         ...   \n",
       "995    0.257616\n",
       "996    0.470485\n",
       "997    0.117439\n",
       "998    0.039558\n",
       "999    0.018629\n",
       "Name: CPS, Length: 1000, dtype: float64"
      ]
     },
     "execution_count": 80,
     "metadata": {},
     "output_type": "execute_result"
    }
   ],
   "source": [
    "df.CPS"
   ]
  },
  {
   "cell_type": "code",
   "execution_count": 82,
   "id": "882d117b",
   "metadata": {},
   "outputs": [
    {
     "data": {
      "text/html": [
       "<div>\n",
       "<style scoped>\n",
       "    .dataframe tbody tr th:only-of-type {\n",
       "        vertical-align: middle;\n",
       "    }\n",
       "\n",
       "    .dataframe tbody tr th {\n",
       "        vertical-align: top;\n",
       "    }\n",
       "\n",
       "    .dataframe thead th {\n",
       "        text-align: right;\n",
       "    }\n",
       "</style>\n",
       "<table border=\"1\" class=\"dataframe\">\n",
       "  <thead>\n",
       "    <tr style=\"text-align: right;\">\n",
       "      <th></th>\n",
       "      <th>CPS Uncertainty</th>\n",
       "    </tr>\n",
       "  </thead>\n",
       "  <tbody>\n",
       "    <tr>\n",
       "      <th>0</th>\n",
       "      <td>0.022986</td>\n",
       "    </tr>\n",
       "    <tr>\n",
       "      <th>1</th>\n",
       "      <td>0.028214</td>\n",
       "    </tr>\n",
       "    <tr>\n",
       "      <th>2</th>\n",
       "      <td>0.020702</td>\n",
       "    </tr>\n",
       "    <tr>\n",
       "      <th>3</th>\n",
       "      <td>0.013902</td>\n",
       "    </tr>\n",
       "    <tr>\n",
       "      <th>4</th>\n",
       "      <td>0.017046</td>\n",
       "    </tr>\n",
       "    <tr>\n",
       "      <th>...</th>\n",
       "      <td>...</td>\n",
       "    </tr>\n",
       "    <tr>\n",
       "      <th>995</th>\n",
       "      <td>0.024478</td>\n",
       "    </tr>\n",
       "    <tr>\n",
       "      <th>996</th>\n",
       "      <td>0.032513</td>\n",
       "    </tr>\n",
       "    <tr>\n",
       "      <th>997</th>\n",
       "      <td>0.017130</td>\n",
       "    </tr>\n",
       "    <tr>\n",
       "      <th>998</th>\n",
       "      <td>0.013068</td>\n",
       "    </tr>\n",
       "    <tr>\n",
       "      <th>999</th>\n",
       "      <td>0.009336</td>\n",
       "    </tr>\n",
       "  </tbody>\n",
       "</table>\n",
       "<p>1000 rows × 1 columns</p>\n",
       "</div>"
      ],
      "text/plain": [
       "     CPS Uncertainty\n",
       "0           0.022986\n",
       "1           0.028214\n",
       "2           0.020702\n",
       "3           0.013902\n",
       "4           0.017046\n",
       "..               ...\n",
       "995         0.024478\n",
       "996         0.032513\n",
       "997         0.017130\n",
       "998         0.013068\n",
       "999         0.009336\n",
       "\n",
       "[1000 rows x 1 columns]"
      ]
     },
     "execution_count": 82,
     "metadata": {},
     "output_type": "execute_result"
    }
   ],
   "source": [
    "df[['CPS Uncertainty']]"
   ]
  },
  {
   "cell_type": "code",
   "execution_count": 75,
   "id": "52cbb154",
   "metadata": {},
   "outputs": [
    {
     "data": {
      "text/plain": [
       "array([[5.15132525e+03, 4.61769728e+02, 2.57290741e-01, 2.29858771e-02,\n",
       "        5.13855419e+02, 3.25653905e+01],\n",
       "       [6.94302684e+03, 5.65212925e+02, 3.47164643e-01, 2.82135345e-02,\n",
       "        5.41687705e+02, 4.22721483e+01],\n",
       "       [5.12360843e+03, 4.18554011e+02, 2.55963369e-01, 2.07019218e-02,\n",
       "        5.18573680e+02, 3.08069759e+01],\n",
       "       ...,\n",
       "       [2.34688978e+03, 3.41362132e+02, 1.17438709e-01, 1.71304729e-02,\n",
       "        6.00354153e+02, 1.19468001e+01],\n",
       "       [7.88286965e+02, 2.60381538e+02, 3.95579413e-02, 1.30681568e-02,\n",
       "        5.52175490e+02, 5.19842583e+00],\n",
       "       [3.73874782e+02, 1.93273176e+02, 1.86288540e-02, 9.33637128e-03,\n",
       "        5.32326956e+02, 2.53018505e+00]], shape=(1000, 6))"
      ]
     },
     "execution_count": 75,
     "metadata": {},
     "output_type": "execute_result"
    }
   ],
   "source": [
    "df.values"
   ]
  },
  {
   "cell_type": "code",
   "execution_count": 76,
   "id": "acb2d369",
   "metadata": {},
   "outputs": [
    {
     "data": {
      "text/plain": [
       "Index(['Counts', 'Counts Uncertainty', 'CPS', 'CPS Uncertainty', 'Weight',\n",
       "       'Ra-226'],\n",
       "      dtype='object')"
      ]
     },
     "execution_count": 76,
     "metadata": {},
     "output_type": "execute_result"
    }
   ],
   "source": [
    "df.columns"
   ]
  },
  {
   "cell_type": "code",
   "execution_count": null,
   "id": "762442a2",
   "metadata": {},
   "outputs": [],
   "source": []
  }
 ],
 "metadata": {
  "kernelspec": {
   "display_name": ".venv",
   "language": "python",
   "name": "python3"
  },
  "language_info": {
   "codemirror_mode": {
    "name": "ipython",
    "version": 3
   },
   "file_extension": ".py",
   "mimetype": "text/x-python",
   "name": "python",
   "nbconvert_exporter": "python",
   "pygments_lexer": "ipython3",
   "version": "3.13.7"
  }
 },
 "nbformat": 4,
 "nbformat_minor": 5
}
